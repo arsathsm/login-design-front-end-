{
  "nbformat": 4,
  "nbformat_minor": 0,
  "metadata": {
    "colab": {
      "provenance": [],
      "authorship_tag": "ABX9TyPWA2abgRyml/IAIHRG67nL",
      "include_colab_link": true
    },
    "kernelspec": {
      "name": "python3",
      "display_name": "Python 3"
    },
    "language_info": {
      "name": "python"
    }
  },
  "cells": [
    {
      "cell_type": "markdown",
      "metadata": {
        "id": "view-in-github",
        "colab_type": "text"
      },
      "source": [
        "<a href=\"https://colab.research.google.com/github/arsathsm/login-design-front-end-/blob/main/Mnist_2020E010.ipynb\" target=\"_parent\"><img src=\"https://colab.research.google.com/assets/colab-badge.svg\" alt=\"Open In Colab\"/></a>"
      ]
    },
    {
      "cell_type": "code",
      "execution_count": 5,
      "metadata": {
        "id": "q54Try6JYSKc"
      },
      "outputs": [],
      "source": [
        "import matplotlib.pyplot as plt\n",
        "%matplotlib inline\n",
        "import numpy as np\n",
        "import time"
      ]
    },
    {
      "cell_type": "code",
      "source": [
        "def convert(imgs, labels, outfile, n):\n",
        "    imgf = open(imgs, \"rb\")\n",
        "    labelf= open(labels, \"rb\")\n",
        "    csv = open(outfile, \"w\")\n",
        "\n",
        "    imgf.read(16)\n",
        "    labelf.read(8)\n",
        "    images = []\n",
        "\n",
        "    for i in range(n):\n",
        "        image = [ord(labelf.read(1))]\n",
        "        for j in range(28*28):\n",
        "            image.append(ord(imgf.read(1)))\n",
        "        images.append(image)\n",
        "\n",
        "    for image in images:\n",
        "        csv.write(\",\".join(str(pix) for pix in image)+\"\\n\")\n",
        "    imgf.close()\n",
        "    labelf.close()\n",
        "    csv.close()"
      ],
      "metadata": {
        "id": "a73ftT_weWp9"
      },
      "execution_count": 9,
      "outputs": []
    },
    {
      "cell_type": "code",
      "source": [
        "mnist_train_x =\"/train-images-idx3-ubyte\"\n",
        "mnist_train_y =\"/train-labels-idx1-ubyte\"\n",
        "mnist_test_x =\"/t10k-images-idx3-ubyte\"\n",
        "mnist_test_y =\"/t10k-labels-idx1-ubyte\""
      ],
      "metadata": {
        "id": "Pv8ivaNGcpPC"
      },
      "execution_count": 11,
      "outputs": []
    },
    {
      "cell_type": "code",
      "source": [
        "convert(mnist_train_x, mnist_train_y, \"/train.csv\",60000)\n",
        "convert(mnist_test_x, mnist_test_y, \"/test.csv\",1000)"
      ],
      "metadata": {
        "id": "hEmqKN56ejUg"
      },
      "execution_count": 13,
      "outputs": []
    },
    {
      "cell_type": "code",
      "source": [
        "# open the CSV file and read its contents into a list\n",
        "train_file = open(\"/train.csv\", 'r')\n",
        "train_list = train_file.readlines()\n",
        "train_file.close()\n"
      ],
      "metadata": {
        "id": "qiLVCFR_ejOJ"
      },
      "execution_count": 15,
      "outputs": []
    },
    {
      "cell_type": "code",
      "source": [
        "len(train_list)\n"
      ],
      "metadata": {
        "colab": {
          "base_uri": "https://localhost:8080/"
        },
        "id": "42TczLd0kEM7",
        "outputId": "c559c5f5-8ba4-47a6-d168-03229a0edfc5"
      },
      "execution_count": 16,
      "outputs": [
        {
          "output_type": "execute_result",
          "data": {
            "text/plain": [
              "60000"
            ]
          },
          "metadata": {},
          "execution_count": 16
        }
      ]
    },
    {
      "cell_type": "code",
      "source": [
        "# show a dataset record\n",
        "# the first number is the label, the rest are pixel colour values (greyscale 0-255)\n",
        "train_list[100]"
      ],
      "metadata": {
        "colab": {
          "base_uri": "https://localhost:8080/",
          "height": 157
        },
        "id": "DVND8tz5lDdn",
        "outputId": "1d31e8a1-a8f4-4f8e-ffc2-970e71b609fa"
      },
      "execution_count": 17,
      "outputs": [
        {
          "output_type": "execute_result",
          "data": {
            "text/plain": [
              "'8,0,0,0,0,0,0,0,0,0,1,0,0,18,107,119,103,9,0,0,0,0,0,0,0,0,0,0,0,0,0,0,0,0,0,0,0,0,0,0,99,155,113,61,118,173,117,0,0,3,0,0,0,0,0,0,0,0,0,0,0,0,0,0,0,1,0,110,136,0,0,0,0,0,167,159,0,0,2,0,0,0,0,0,0,0,0,0,0,0,1,0,6,0,72,147,0,0,5,0,2,0,0,174,118,0,5,0,0,0,0,0,0,0,0,0,0,0,1,5,0,0,174,4,0,4,0,0,0,0,0,0,204,44,0,4,0,0,0,0,0,0,0,0,0,0,0,8,0,125,128,0,9,0,0,0,0,0,2,0,107,152,0,6,0,0,0,0,0,0,0,0,0,0,0,0,0,184,9,0,4,0,0,0,0,0,2,0,0,190,0,0,2,0,0,0,0,0,0,0,1,0,2,0,73,158,0,0,0,0,1,0,0,0,0,4,0,157,79,0,3,1,0,0,0,0,0,2,5,1,0,0,157,98,0,2,0,0,1,0,0,0,0,5,0,121,145,0,0,0,0,0,0,0,0,0,0,0,0,0,231,84,0,2,1,1,0,0,0,0,0,1,0,92,223,16,0,7,4,1,0,0,0,0,0,0,0,38,183,81,0,0,0,2,2,1,2,1,0,1,0,120,226,57,0,0,0,0,0,0,0,173,216,193,213,183,164,167,98,16,0,0,0,0,0,0,0,0,0,107,141,111,91,90,108,50,0,0,0,185,221,217,210,202,222,200,206,202,204,109,27,12,17,61,136,180,221,202,225,208,214,223,240,162,0,0,0,183,220,205,200,193,184,189,182,173,194,215,216,205,207,207,195,185,194,194,203,212,183,193,211,153,0,0,0,190,233,203,206,214,216,195,183,176,159,175,189,202,195,186,186,182,186,195,209,235,203,202,215,136,0,0,0,180,228,201,202,188,183,178,192,186,181,181,177,204,217,175,179,184,176,166,169,175,185,152,203,107,0,0,0,167,235,200,207,207,209,207,203,198,189,182,178,186,189,178,192,197,195,192,185,184,205,187,255,61,0,0,0,152,250,208,214,209,202,200,202,205,204,200,192,198,204,195,205,206,198,199,203,214,207,179,249,55,0,0,0,126,255,211,215,210,206,203,203,203,206,204,199,206,207,200,206,201,199,202,208,215,195,174,211,15,0,0,0,107,255,212,211,210,211,208,206,206,207,208,208,217,214,205,206,204,208,211,211,220,197,182,225,0,0,0,0,63,232,211,216,212,214,212,212,214,212,211,212,223,219,210,214,213,212,211,209,217,208,168,190,0,0,0,0,14,255,218,221,215,218,218,217,215,213,211,215,228,220,216,222,217,217,216,218,212,213,189,143,0,0,0,0,0,230,227,214,217,218,216,217,217,214,216,222,226,218,218,220,219,218,217,218,217,215,216,113,0,0,0,0,0,177,233,216,223,222,213,213,215,212,220,226,221,220,221,218,222,220,220,221,217,212,219,52,0,0,0,0,0,10,223,222,220,211,213,215,220,222,226,226,221,223,222,222,221,218,220,219,220,223,174,0,0,0,0,0,0,0,126,241,208,210,214,214,216,216,220,220,214,213,212,212,210,215,217,218,215,236,42,0,1,0,0,0,0,0,0,188,237,230,233,255,255,255,255,255,255,255,255,255,255,255,231,229,239,161,0,0,0,0,0,0,0,0,0,0,63,95,108,105,100,103,104,105,102,100,98,97,96,90,80,83,60,0,0,0,0,0\\n'"
            ],
            "application/vnd.google.colaboratory.intrinsic+json": {
              "type": "string"
            }
          },
          "metadata": {},
          "execution_count": 17
        }
      ]
    },
    {
      "cell_type": "code",
      "source": [
        "# take the data from a record, rearrange it into a 28*28 array and plot it as an image\n",
        "all_values = train_list[100].split(',')\n",
        "image_array = np.asfarray(all_values[1:]).reshape((28,28))\n",
        "plt.imshow(image_array, cmap='Greys', interpolation='None')"
      ],
      "metadata": {
        "colab": {
          "base_uri": "https://localhost:8080/",
          "height": 447
        },
        "id": "QUcDxu9llNuv",
        "outputId": "cfb1682c-7f03-407f-be7f-db209234d394"
      },
      "execution_count": 19,
      "outputs": [
        {
          "output_type": "execute_result",
          "data": {
            "text/plain": [
              "<matplotlib.image.AxesImage at 0x7a70de5503a0>"
            ]
          },
          "metadata": {},
          "execution_count": 19
        },
        {
          "output_type": "display_data",
          "data": {
            "text/plain": [
              "<Figure size 640x480 with 1 Axes>"
            ],
            "image/png": "[encoded data removed]"
          },
          "metadata": {}
        }
      ]
    },
    {
      "cell_type": "code",
      "source": [
        "test_file = open(\"/test.csv\", 'r')\n",
        "test_list = test_file.readlines()\n",
        "test_file.close()"
      ],
      "metadata": {
        "id": "hKAHTIIKl8pe"
      },
      "execution_count": 20,
      "outputs": []
    },
    {
      "cell_type": "code",
      "source": [
        "len(test_list)"
      ],
      "metadata": {
        "colab": {
          "base_uri": "https://localhost:8080/"
        },
        "id": "NyZqNaIRmIR8",
        "outputId": "55b36eca-50d8-4f0c-b03d-d5c7d219008f"
      },
      "execution_count": 22,
      "outputs": [
        {
          "output_type": "execute_result",
          "data": {
            "text/plain": [
              "1000"
            ]
          },
          "metadata": {},
          "execution_count": 22
        }
      ]
    },
    {
      "cell_type": "code",
      "source": [
        "class DNN:\n",
        "  def __init__(self, sizes, epochs, lr):\n",
        "    self.sizes = sizes\n",
        "    self.epochs = epochs\n",
        "    self.lr = lr\n",
        "\n",
        "    # number of nodes in each layer\n",
        "    input_layer=self.sizes[0]\n",
        "    hidden_1=self.sizes[1]\n",
        "    hidden_2=self.sizes[2]\n",
        "    output_layer=self.sizes[3]\n",
        "\n",
        "    self.params = {\n",
        "        'W1':np.random.randn(hidden_1, input_layer) * np.sqrt(1. / hidden_1),\n",
        "        'W2':np.random.randn(hidden_2, hidden_1) * np.sqrt(1. / hidden_2),\n",
        "        'W3':np.random.randn(output_layer, hidden_2) * np.sqrt(1. / output_layer)\n",
        "    }\n",
        "  def sigmoid(self, x, derivative=False):\n",
        "      if derivative:\n",
        "          return (np.exp(-x))/((np.exp(-x)+1)**2)\n",
        "      return 1/(1 + np.exp(-x))\n",
        "\n",
        "  def softmax(self, x, derivative=False):\n",
        "      # Numerically stable with large exponentials\n",
        "      exps = np.exp(x - x.max())\n",
        "      if derivative:\n",
        "          return exps / np.sum(exps, axis=0) * (1 - exps / np.sum(exps, axis=0))\n",
        "      return exps / np.sum(exps, axis=0)\n",
        "  def forward_pass(self, x_train):\n",
        "      params = self.params\n",
        "\n",
        "      # input layer activations becomes sample\n",
        "      params['A0'] = x_train\n",
        "\n",
        "      # input layer to hidden layer 1\n",
        "      params['Z1'] = np.dot(params[\"W1\"], params['A0'])\n",
        "      params['A1'] = self.sigmoid(params['Z1'])\n",
        "\n",
        "      # hidden layer 1 to hidden layer 2\n",
        "      params['Z2'] = np.dot(params[\"W2\"], params['A1'])\n",
        "      params['A2'] = self.sigmoid(params['Z2'])\n",
        "\n",
        "      # hidden layer 2 to output layer\n",
        "      params['Z3'] = np.dot(params[\"W3\"], params['A2'])\n",
        "      params['A3'] = self.softmax(params['Z3'])\n",
        "\n",
        "      return params['A3']\n",
        "\n",
        "  def backward_pass(self, y_train, output):\n",
        "      '''\n",
        "          This is the backpropagation algorithm, for calculating the updates\n",
        "          of the neural network's parameters.\n",
        "\n",
        "          Note: There is a stability issue that causes warnings. This is\n",
        "                caused  by the dot and multiply operations on the huge arrays.\n",
        "\n",
        "                RuntimeWarning: invalid value encountered in true_divide\n",
        "                RuntimeWarning: overflow encountered in exp\n",
        "                RuntimeWarning: overflow encountered in square\n",
        "      '''\n",
        "      params = self.params\n",
        "      change_w = {}\n",
        "\n",
        "      # Calculate W3 update\n",
        "      error = 2 * (output - y_train) / output.shape[0] * self.softmax(params['Z3'], derivative=True)\n",
        "      change_w['W3'] = np.outer(error, params['A2'])\n",
        "\n",
        "      # Calculate W2 update\n",
        "      error = np.dot(params['W3'].T, error) * self.sigmoid(params['Z2'], derivative=True)\n",
        "      change_w['W2'] = np.outer(error, params['A1'])\n",
        "\n",
        "      # Calculate W1 update\n",
        "      error = np.dot(params['W2'].T, error) * self.sigmoid(params['Z1'], derivative=True)\n",
        "      change_w['W1'] = np.outer(error, params['A0'])\n",
        "\n",
        "      return change_w\n",
        "\n",
        "  def update_network_parameters(self, changes_to_w):\n",
        "      '''\n",
        "          Update network parameters according to update rule from\n",
        "          Stochastic Gradient Descent.\n",
        "\n",
        "          θ = θ - η * ∇J(x, y),\n",
        "              theta θ:            a network parameter (e.g. a weight w)\n",
        "              eta η:              the learning rate\n",
        "              gradient ∇J(x, y):  the gradient of the objective function,\n",
        "                                  i.e. the change for a specific theta θ\n",
        "      '''\n",
        "\n",
        "      for key, value in changes_to_w.items():\n",
        "          self.params[key] -= self.lr * value\n",
        "\n",
        "  def compute_accuracy(self, test_data, output_nodes):\n",
        "      '''\n",
        "          This function does a forward pass of x, then checks if the indices\n",
        "          of the maximum value in the output equals the indices in the label\n",
        "          y. Then it sums over each prediction and calculates the accuracy.\n",
        "      '''\n",
        "      predictions = []\n",
        "\n",
        "      for x in train_list:\n",
        "          all_values = x.split(',')\n",
        "          # scale and shift the inputs\n",
        "          inputs = (np.asfarray(all_values[1:]) / 255.0 * 0.99) + 0.01\n",
        "          # create the target output values (all 0.01, except the desired label which is 0.99)\n",
        "          targets = np.zeros(output_nodes) + 0.01\n",
        "          # all_values[0] is the target label for this record\n",
        "          targets[int(all_values[0])] = 0.99\n",
        "          output = self.forward_pass(inputs)\n",
        "          pred = np.argmax(output)\n",
        "          predictions.append(pred == np.argmax(targets))\n",
        "\n",
        "      return np.mean(predictions)\n",
        "\n",
        "  def train(self, train_list, test_list, output_nodes):\n",
        "      start_time = time.time()\n",
        "      for iteration in range(self.epochs):\n",
        "          for x in train_list:\n",
        "              all_values = x.split(',')\n",
        "              # scale and shift the inputs\n",
        "              inputs = (np.asfarray(all_values[1:]) / 255.0 * 0.99) + 0.01\n",
        "              # create the target output values (all 0.01, except the desired label which is 0.99)\n",
        "              targets = np.zeros(output_nodes) + 0.01\n",
        "              # all_values[0] is the target label for this record\n",
        "              targets[int(all_values[0])] = 0.99\n",
        "              output = self.forward_pass(inputs)\n",
        "              changes_to_w = self.backward_pass(targets, output)\n",
        "              self.update_network_parameters(changes_to_w)\n",
        "\n",
        "          accuracy = self.compute_accuracy(test_list, output_nodes)\n",
        "          print('Epoch: {0}, Time Spent: {1:.2f}s, Accuracy: {2:.2f}%'.format(\n",
        "              iteration+1, time.time() - start_time, accuracy * 100\n",
        "          ))"
      ],
      "metadata": {
        "id": "F91s96JYpHwU"
      },
      "execution_count": 23,
      "outputs": []
    },
    {
      "cell_type": "code",
      "source": [
        "dnn = DNN(sizes=[784, 128, 64, 10], epochs=10, lr=0.001)\n",
        "dnn.train(train_list, test_list, 10)"
      ],
      "metadata": {
        "colab": {
          "base_uri": "https://localhost:8080/"
        },
        "id": "XtDVeXsnptFT",
        "outputId": "9c15d48e-2bc0-49ef-813b-6b7507713936"
      },
      "execution_count": 24,
      "outputs": [
        {
          "output_type": "stream",
          "name": "stdout",
          "text": [
            "Epoch: 1, Time Spent: 85.58s, Accuracy: 29.93%\n",
            "Epoch: 2, Time Spent: 171.60s, Accuracy: 31.57%\n",
            "Epoch: 3, Time Spent: 255.68s, Accuracy: 32.31%\n",
            "Epoch: 4, Time Spent: 340.64s, Accuracy: 34.13%\n",
            "Epoch: 5, Time Spent: 425.08s, Accuracy: 36.43%\n",
            "Epoch: 6, Time Spent: 509.27s, Accuracy: 40.44%\n",
            "Epoch: 7, Time Spent: 596.20s, Accuracy: 45.88%\n",
            "Epoch: 8, Time Spent: 679.15s, Accuracy: 50.42%\n",
            "Epoch: 9, Time Spent: 764.63s, Accuracy: 54.15%\n",
            "Epoch: 10, Time Spent: 850.20s, Accuracy: 57.42%\n"
          ]
        }
      ]
    }
  ]
}